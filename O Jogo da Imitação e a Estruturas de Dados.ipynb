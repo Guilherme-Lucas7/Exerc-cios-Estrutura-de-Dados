{
  "nbformat": 4,
  "nbformat_minor": 0,
  "metadata": {
    "colab": {
      "provenance": [],
      "authorship_tag": "ABX9TyPEHVJsjeygp+l1uvcL1G0X",
      "include_colab_link": true
    },
    "kernelspec": {
      "name": "python3",
      "display_name": "Python 3"
    },
    "language_info": {
      "name": "python"
    }
  },
  "cells": [
    {
      "cell_type": "markdown",
      "metadata": {
        "id": "view-in-github",
        "colab_type": "text"
      },
      "source": [
        "<a href=\"https://colab.research.google.com/github/Guilherme-Lucas7/Exerc-cios-Estrutura-de-Dados/blob/main/O%20Jogo%20da%20Imita%C3%A7%C3%A3o%20e%20a%20Estruturas%20de%20Dados.ipynb\" target=\"_parent\"><img src=\"https://colab.research.google.com/assets/colab-badge.svg\" alt=\"Open In Colab\"/></a>"
      ]
    },
    {
      "cell_type": "markdown",
      "source": [],
      "metadata": {
        "id": "WJgeTG3UMonq"
      }
    },
    {
      "cell_type": "markdown",
      "source": [
        " Contextualização\n",
        "No filme O Jogo da Imitação, Alan Turing lidera um time para construir uma máquina capaz de decifrar o código Enigma usado pelos nazistas durante a Segunda Guerra Mundial. Essa máquina precisava testar milhões de combinações possíveis de letras rapidamente — tarefa impossível para humanos sozinhos. Para isso, foi essencial o uso de lógica, algoritmos e estruturas de dados para organizar e processar essas tentativas de forma eficiente.\n",
        "\n",
        "📽️ Trecho Selecionado\n",
        "Trecho: A cena onde Turing explica que a máquina vai testar todas as combinações possíveis até encontrar a que se encaixa com uma palavra comum esperada (por exemplo: \"Heil Hitler\").\n",
        "\n",
        "Nesse trecho, podemos ver a aplicação clara de estruturas como:\n",
        "\n",
        "Uma fila para processar combinações;\n",
        "\n",
        "Uma pilha para desfazer tentativas;\n",
        "\n",
        "Uma lista para registrar padrões testados.\n",
        "\n",
        " Questões e Respostas\n",
        " Fila\n",
        "Durante a decodificação do código Enigma, imagine que as combinações de letras possíveis sejam armazenadas em uma fila. Explique como o uso de uma fila pode organizar o processamento das combinações, garantindo que cada tentativa seja analisada na ordem correta.\n",
        "\n",
        "Resposta:\n",
        "A fila (estrutura FIFO – First In, First Out) garantiria que as combinações geradas sejam processadas na ordem em que foram criadas. Isso é útil para manter um controle justo e sequencial sobre as tentativas de decodificação. Assim, a máquina poderia retirar uma combinação da frente da fila, testá-la, e se não funcionar, passar para a próxima, sem pular nenhuma.\n",
        "\n",
        " Pilha\n",
        "Caso os testes falhem e seja necessário reverter algumas decisões, como você utilizaria uma pilha para armazenar os passos anteriores e retornar ao estado inicial mais rapidamente?\n",
        "\n",
        "Resposta:\n",
        "A pilha (estrutura LIFO – Last In, First Out) seria ideal para registrar os últimos passos ou decisões da máquina. Quando uma tentativa falhar, a máquina poderia \"desempilhar\" o último passo e voltar ao estado anterior, desfazendo as decisões na ordem inversa em que foram tomadas. Isso facilita a reversão de ações erradas sem perder todo o progresso.\n",
        "\n",
        "\n",
        " Lista\n",
        "Suponha que a máquina precise manter uma lista dos padrões de palavras já testados. Como a lista pode ser utilizada para garantir que padrões repetidos não sejam testados novamente? Discuta as vantagens de usar uma lista encadeada em vez de um vetor nesse caso.\n",
        "\n",
        "Resposta:\n",
        "A lista pode armazenar todos os padrões já testados, permitindo que, antes de tentar um novo padrão, a máquina verifique se ele já foi analisado. Isso evita retrabalho e economiza tempo de processamento.\n",
        "Usar uma lista encadeada tem vantagens sobre um vetor nesse caso:\n",
        "\n",
        "Inserções são mais rápidas, pois não exigem realocação de memória;\n",
        "\n",
        "A lista pode crescer dinamicamente, sem a necessidade de definir um tamanho fixo;\n",
        "\n",
        "A remoção de elementos é eficiente, especialmente se for necessário ajustar a lista com frequência.\n",
        "\n",
        "\n",
        "\n",
        "\n",
        "\n",
        "\n",
        "\n",
        "\n",
        "\n",
        "\n"
      ],
      "metadata": {
        "id": "ECZVX-RjMopw"
      }
    },
    {
      "cell_type": "code",
      "source": [],
      "metadata": {
        "id": "KhR7K0QoMxqC"
      },
      "execution_count": null,
      "outputs": []
    }
  ]
}