{
  "nbformat": 4,
  "nbformat_minor": 0,
  "metadata": {
    "colab": {
      "provenance": [],
      "authorship_tag": "ABX9TyNx5A01HPZz3aYdra7oeKWK",
      "include_colab_link": true
    },
    "kernelspec": {
      "name": "python3",
      "display_name": "Python 3"
    },
    "language_info": {
      "name": "python"
    }
  },
  "cells": [
    {
      "cell_type": "markdown",
      "metadata": {
        "id": "view-in-github",
        "colab_type": "text"
      },
      "source": [
        "<a href=\"https://colab.research.google.com/github/Guilherme-Lucas7/Exerc-cios-Estrutura-de-Dados/blob/main/Estruturas%20dados%20python%20Guilherme.ipynb\" target=\"_parent\"><img src=\"https://colab.research.google.com/assets/colab-badge.svg\" alt=\"Open In Colab\"/></a>"
      ]
    },
    {
      "cell_type": "code",
      "execution_count": null,
      "metadata": {
        "id": "z1l8xb9PGINe"
      },
      "outputs": [],
      "source": []
    },
    {
      "cell_type": "markdown",
      "source": [
        "Listas"
      ],
      "metadata": {
        "id": "a_q34ZoyGWn2"
      }
    },
    {
      "cell_type": "code",
      "source": [
        "x = [10,5,11,0,3]\n",
        "x"
      ],
      "metadata": {
        "colab": {
          "base_uri": "https://localhost:8080/"
        },
        "id": "ctILoP4ZGZet",
        "outputId": "d4ad9812-ebe1-447d-8786-eb39f2233168"
      },
      "execution_count": null,
      "outputs": [
        {
          "output_type": "execute_result",
          "data": {
            "text/plain": [
              "[10, 5, 11, 0, 3]"
            ]
          },
          "metadata": {},
          "execution_count": 1
        }
      ]
    },
    {
      "cell_type": "code",
      "source": [
        "x[0]\n",
        "x[4]"
      ],
      "metadata": {
        "colab": {
          "base_uri": "https://localhost:8080/"
        },
        "id": "II9Pku1lG1CN",
        "outputId": "93253301-b281-4642-f258-2ff2f81b8a70"
      },
      "execution_count": null,
      "outputs": [
        {
          "output_type": "execute_result",
          "data": {
            "text/plain": [
              "3"
            ]
          },
          "metadata": {},
          "execution_count": 3
        }
      ]
    },
    {
      "cell_type": "code",
      "source": [
        "L = [1, 4.5,'abc', 3 + 4j, [1,2,3,4]]\n",
        "L[2]=5\n",
        "L[4]=5\n",
        "L"
      ],
      "metadata": {
        "colab": {
          "base_uri": "https://localhost:8080/"
        },
        "id": "xR0MLLkeHcm9",
        "outputId": "7a3783ec-058c-42db-87ba-3607416a969b"
      },
      "execution_count": null,
      "outputs": [
        {
          "output_type": "execute_result",
          "data": {
            "text/plain": [
              "[1, 4.5, 5, (3+4j), 5]"
            ]
          },
          "metadata": {},
          "execution_count": 11
        }
      ]
    },
    {
      "cell_type": "code",
      "source": [
        "A= [1, 2, 3]; B = [4, 5, 6]\n",
        "C= A+B\n",
        "C\n",
        "C+= [7]\n",
        "C\n",
        "C.append('abc')\n",
        "C"
      ],
      "metadata": {
        "colab": {
          "base_uri": "https://localhost:8080/"
        },
        "id": "pHkBsOt_MQXB",
        "outputId": "c308d4d5-897e-4168-a9fa-dd8492121bd0"
      },
      "execution_count": null,
      "outputs": [
        {
          "output_type": "execute_result",
          "data": {
            "text/plain": [
              "[1, 2, 3, 4, 5, 6, 7, 'abc']"
            ]
          },
          "metadata": {},
          "execution_count": 16
        }
      ]
    },
    {
      "cell_type": "markdown",
      "source": [],
      "metadata": {
        "id": "MAaG6nHFNZEM"
      }
    },
    {
      "cell_type": "code",
      "source": [
        "L= [1, 4.5, 'abc', 3+4j, [1,2,3,4]]\n",
        "L\n",
        "L[4]\n",
        "L[4][0]"
      ],
      "metadata": {
        "colab": {
          "base_uri": "https://localhost:8080/"
        },
        "id": "iEhlS4YONJRi",
        "outputId": "8849cc6f-d9b5-4d66-d02b-290f610050c8"
      },
      "execution_count": null,
      "outputs": [
        {
          "output_type": "execute_result",
          "data": {
            "text/plain": [
              "1"
            ]
          },
          "metadata": {},
          "execution_count": 19
        }
      ]
    },
    {
      "cell_type": "markdown",
      "source": [
        "append()Adiciona elementos a lista:\n",
        "\n",
        "\n",
        "```\n",
        "\n",
        "```\n",
        "\n"
      ],
      "metadata": {
        "id": "cwTOxUYGRJFL"
      }
    },
    {
      "cell_type": "code",
      "source": [
        "x = [1,2,3]\n",
        "x.append(4)\n",
        "x"
      ],
      "metadata": {
        "colab": {
          "base_uri": "https://localhost:8080/"
        },
        "id": "e3oN4EtQRMCD",
        "outputId": "d8ee6be5-8cf8-41f2-f0ca-e6fbd46572e5"
      },
      "execution_count": null,
      "outputs": [
        {
          "output_type": "execute_result",
          "data": {
            "text/plain": [
              "[1, 2, 3, 4]"
            ]
          },
          "metadata": {},
          "execution_count": 1
        }
      ]
    },
    {
      "cell_type": "markdown",
      "source": [
        "clear()Esvazia a lista:"
      ],
      "metadata": {
        "id": "N5MUdvm7Ray2"
      }
    },
    {
      "cell_type": "code",
      "source": [
        "x = [1,2,3]\n",
        "x.clear()\n",
        "x"
      ],
      "metadata": {
        "colab": {
          "base_uri": "https://localhost:8080/"
        },
        "id": "MTKL_n5xRbs0",
        "outputId": "641a398e-a386-4c37-d49b-6f7f7e4b0e4e"
      },
      "execution_count": null,
      "outputs": [
        {
          "output_type": "execute_result",
          "data": {
            "text/plain": [
              "[]"
            ]
          },
          "metadata": {},
          "execution_count": 2
        }
      ]
    },
    {
      "cell_type": "markdown",
      "source": [
        " count() Retorna quantas ocorrências há no argumento passado:\n"
      ],
      "metadata": {
        "id": "YFkyMRT1RxaV"
      }
    },
    {
      "cell_type": "code",
      "source": [
        "x= [1,2,3,3,3,3,4]\n",
        "x.count(3)"
      ],
      "metadata": {
        "colab": {
          "base_uri": "https://localhost:8080/"
        },
        "id": "syrQXpVkR9GF",
        "outputId": "b9151e90-c7bc-44f4-b85f-f1b9e89dfddd"
      },
      "execution_count": null,
      "outputs": [
        {
          "output_type": "execute_result",
          "data": {
            "text/plain": [
              "4"
            ]
          },
          "metadata": {},
          "execution_count": 3
        }
      ]
    },
    {
      "cell_type": "markdown",
      "source": [
        "index() Retorna o índice da primeira ocorrência do arguemento passado:"
      ],
      "metadata": {
        "id": "oAfalfm9SS4c"
      }
    },
    {
      "cell_type": "code",
      "source": [
        "x= [1,2,3,3,3,3,4]\n",
        "x.index(1)"
      ],
      "metadata": {
        "colab": {
          "base_uri": "https://localhost:8080/"
        },
        "id": "11Qh6ZG1Sb2k",
        "outputId": "3caaecfc-95e0-4fa8-df5c-3316d647ad4b"
      },
      "execution_count": null,
      "outputs": [
        {
          "output_type": "execute_result",
          "data": {
            "text/plain": [
              "0"
            ]
          },
          "metadata": {},
          "execution_count": 27
        }
      ]
    },
    {
      "cell_type": "markdown",
      "source": [
        "insert() Insere na posição especificada um elemento"
      ],
      "metadata": {
        "id": "KZ9JRq0KTE_b"
      }
    },
    {
      "cell_type": "code",
      "source": [
        "x = ['a', 'c', 'd']\n",
        "x.insert(1,'b')\n",
        "x"
      ],
      "metadata": {
        "colab": {
          "base_uri": "https://localhost:8080/"
        },
        "id": "p0TxnFfcTK47",
        "outputId": "ab1ddf39-95f0-4f28-f661-08ad6a645d15"
      },
      "execution_count": null,
      "outputs": [
        {
          "output_type": "execute_result",
          "data": {
            "text/plain": [
              "['a', 'b', 'c', 'd']"
            ]
          },
          "metadata": {},
          "execution_count": 24
        }
      ]
    },
    {
      "cell_type": "markdown",
      "source": [],
      "metadata": {
        "id": "q_JEW5BlLGjQ"
      }
    },
    {
      "cell_type": "markdown",
      "source": [
        "pop () Remove e retorna o elemento da posição especificada"
      ],
      "metadata": {
        "id": "YyUvMNYrTehz"
      }
    },
    {
      "cell_type": "code",
      "source": [
        "x = ['a', 'b', 'c', 'd']\n",
        "x.pop(1)\n",
        "'b'\n",
        "x"
      ],
      "metadata": {
        "colab": {
          "base_uri": "https://localhost:8080/"
        },
        "id": "5KX4ajQaTkt6",
        "outputId": "2b4c2356-9686-40ed-cbee-d75515a1d5e2"
      },
      "execution_count": null,
      "outputs": [
        {
          "output_type": "execute_result",
          "data": {
            "text/plain": [
              "['a', 'c', 'd']"
            ]
          },
          "metadata": {},
          "execution_count": 7
        }
      ]
    },
    {
      "cell_type": "markdown",
      "source": [
        "remove () Remove o elemento especificado"
      ],
      "metadata": {
        "id": "u3mHbgYvTy4E"
      }
    },
    {
      "cell_type": "code",
      "source": [
        "x = ['a', 'b', 'c', 'd']\n",
        "x.remove('c')\n",
        "x"
      ],
      "metadata": {
        "colab": {
          "base_uri": "https://localhost:8080/"
        },
        "id": "WRd38qW9T4DV",
        "outputId": "c4c625a2-d809-462a-eb88-2d314ab4a3e0"
      },
      "execution_count": null,
      "outputs": [
        {
          "output_type": "execute_result",
          "data": {
            "text/plain": [
              "['a', 'b', 'd']"
            ]
          },
          "metadata": {},
          "execution_count": 30
        }
      ]
    },
    {
      "cell_type": "markdown",
      "source": [
        "reverse () Inverte a ordem dos elementos"
      ],
      "metadata": {
        "id": "r2PXgTnDT9a1"
      }
    },
    {
      "cell_type": "code",
      "source": [
        "x = [5, 4, 3, 2, 1]\n",
        "x.reverse()\n",
        "x"
      ],
      "metadata": {
        "colab": {
          "base_uri": "https://localhost:8080/"
        },
        "id": "fcNslrbBUDV7",
        "outputId": "42f77373-8a8b-40f8-f445-845c777ad908"
      },
      "execution_count": null,
      "outputs": [
        {
          "output_type": "execute_result",
          "data": {
            "text/plain": [
              "[1, 2, 3, 4, 5]"
            ]
          },
          "metadata": {},
          "execution_count": 31
        }
      ]
    },
    {
      "cell_type": "markdown",
      "source": [
        "sort() Ordena:"
      ],
      "metadata": {
        "id": "tb1Pb1seUIWS"
      }
    },
    {
      "cell_type": "code",
      "source": [
        "x = [10,3,3,10,10,6,6,4,8,7]\n",
        "x.sort()\n",
        "x"
      ],
      "metadata": {
        "colab": {
          "base_uri": "https://localhost:8080/"
        },
        "id": "rKQbIdkeULQR",
        "outputId": "9dd4db27-8c9e-4b20-d9bc-a3d1e782e2db"
      },
      "execution_count": null,
      "outputs": [
        {
          "output_type": "execute_result",
          "data": {
            "text/plain": [
              "[3, 3, 4, 6, 6, 7, 8, 10, 10, 10]"
            ]
          },
          "metadata": {},
          "execution_count": 32
        }
      ]
    },
    {
      "cell_type": "markdown",
      "source": [
        "Laço for:\n",
        " Os conjuntos finitos de valores usados na estrutura de repetição for para iterar uma variável,\n",
        " também é uma lista."
      ],
      "metadata": {
        "id": "GPtcudNNUXCs"
      }
    },
    {
      "cell_type": "code",
      "source": [
        "x = [10,5,11,0,3]\n",
        "for i in x:\n",
        "  print(i)"
      ],
      "metadata": {
        "colab": {
          "base_uri": "https://localhost:8080/"
        },
        "id": "exi6vglPUaeM",
        "outputId": "d800bde5-7e3d-4f56-adf3-d7baecdf8747"
      },
      "execution_count": null,
      "outputs": [
        {
          "output_type": "stream",
          "name": "stdout",
          "text": [
            "10\n",
            "5\n",
            "11\n",
            "0\n",
            "3\n"
          ]
        }
      ]
    },
    {
      "cell_type": "code",
      "source": [
        "i = 10\n",
        "i in x\n",
        "i = 100\n",
        "i in x"
      ],
      "metadata": {
        "colab": {
          "base_uri": "https://localhost:8080/"
        },
        "id": "9uD5i-SsVHha",
        "outputId": "11d5e0fb-236c-44a2-94a4-68b887755387"
      },
      "execution_count": null,
      "outputs": [
        {
          "output_type": "execute_result",
          "data": {
            "text/plain": [
              "False"
            ]
          },
          "metadata": {},
          "execution_count": 35
        }
      ]
    },
    {
      "cell_type": "code",
      "source": [
        "A = [3,4,5,10]\n",
        "soma1 = list()\n",
        "for i in A:\n",
        "  soma1+= [i+1]\n",
        "soma1"
      ],
      "metadata": {
        "colab": {
          "base_uri": "https://localhost:8080/"
        },
        "id": "5M5eYVtVWGFF",
        "outputId": "a21a2ea1-5905-4c5c-af66-2f774d3c0a1d"
      },
      "execution_count": null,
      "outputs": [
        {
          "output_type": "execute_result",
          "data": {
            "text/plain": [
              "[4, 5, 6, 11]"
            ]
          },
          "metadata": {},
          "execution_count": 45
        }
      ]
    },
    {
      "cell_type": "code",
      "source": [
        "A = [3,4,5,10]\n",
        "soma1 = [i+1 for i in A]\n",
        "soma1"
      ],
      "metadata": {
        "colab": {
          "base_uri": "https://localhost:8080/"
        },
        "id": "0VMDwzlkXvYn",
        "outputId": "626a0aa0-9393-43b8-c5d0-7f7043c326e5"
      },
      "execution_count": null,
      "outputs": [
        {
          "output_type": "execute_result",
          "data": {
            "text/plain": [
              "[4, 5, 6, 11]"
            ]
          },
          "metadata": {},
          "execution_count": 46
        }
      ]
    },
    {
      "cell_type": "code",
      "source": [
        "A= [0,0,5,3,2,7,4,10,4,7]\n",
        "N= list()\n",
        "for i in A:\n",
        " if i%2== 0:\n",
        "  N +=[i*i]\n",
        "N"
      ],
      "metadata": {
        "colab": {
          "base_uri": "https://localhost:8080/"
        },
        "id": "cISAn21RX-f_",
        "outputId": "1bb231b8-1bda-4101-c67b-ec3f52e62352"
      },
      "execution_count": null,
      "outputs": [
        {
          "output_type": "execute_result",
          "data": {
            "text/plain": [
              "[0, 0, 4, 16, 100, 16]"
            ]
          },
          "metadata": {},
          "execution_count": 55
        }
      ]
    },
    {
      "cell_type": "code",
      "source": [
        "A = [0,0,5,3,2,7,4,10,4,7]\n",
        "N= [i*i for i in A if i%2==0]\n",
        "N"
      ],
      "metadata": {
        "colab": {
          "base_uri": "https://localhost:8080/"
        },
        "id": "9UgVYJ_cco9H",
        "outputId": "8497a662-6a83-402a-93e7-1f44737ddccc"
      },
      "execution_count": null,
      "outputs": [
        {
          "output_type": "execute_result",
          "data": {
            "text/plain": [
              "[0, 0, 4, 16, 100, 16]"
            ]
          },
          "metadata": {},
          "execution_count": 56
        }
      ]
    },
    {
      "cell_type": "code",
      "source": [],
      "metadata": {
        "id": "5zPWrjlPdQJL"
      },
      "execution_count": null,
      "outputs": []
    },
    {
      "cell_type": "markdown",
      "source": [
        "Fatiamento"
      ],
      "metadata": {
        "id": "KxeQ1sdLjX61"
      }
    },
    {
      "cell_type": "code",
      "source": [
        "\n",
        "X = [1, 2, 3, 4, 5, 6, 7, 8, 9, 0]\n",
        "X[0:2:1]\n",
        "[1, 2]\n",
        "X[0:4:2]\n",
        "X = [1, 2, 3, 4, 5, 6, 7, 8, 9, 0]\n",
        "X[:: 1]\n",
        "X[4:: 1]\n",
        "X = [1, 2, 3, 4, 5, 6, 7, 8, 9, 0]\n",
        "X[:2:1]\n",
        "X[::2]\n",
        "X[:]"
      ],
      "metadata": {
        "colab": {
          "base_uri": "https://localhost:8080/"
        },
        "id": "YdUSJwbujaLB",
        "outputId": "6247829a-c8d6-456a-8931-407c071484b2"
      },
      "execution_count": null,
      "outputs": [
        {
          "output_type": "execute_result",
          "data": {
            "text/plain": [
              "[1, 2, 3, 4, 5, 6, 7, 8, 9, 0]"
            ]
          },
          "metadata": {},
          "execution_count": 14
        }
      ]
    },
    {
      "cell_type": "markdown",
      "source": [
        "Tuplas"
      ],
      "metadata": {
        "id": "zEuWTeB3nXA6"
      }
    },
    {
      "cell_type": "code",
      "source": [
        "x = (\"a\", 1,2)\n",
        "type(x)\n",
        "x\n",
        "x = ([0, 1, 2], 2, 2)\n",
        "x[1]\n",
        "\n",
        "x[0]\n",
        "x[0][0] = 'mudei'\n",
        "x\n",
        "X = (1, 2, 3)\n",
        "Y = (1, 2, 4)\n",
        "Z = (4, 0, 0)\n",
        "X < Y\n",
        "X < Z\n",
        "X + Y\n",
        "Z*4\n",
        "X += (4,)\n",
        "x"
      ],
      "metadata": {
        "colab": {
          "base_uri": "https://localhost:8080/"
        },
        "id": "F6jWH5cunX_E",
        "outputId": "00c61d0e-d6ff-4840-d57b-f747fe12762e"
      },
      "execution_count": null,
      "outputs": [
        {
          "output_type": "execute_result",
          "data": {
            "text/plain": [
              "(['mudei', 1, 2], 2, 2)"
            ]
          },
          "metadata": {},
          "execution_count": 49
        }
      ]
    },
    {
      "cell_type": "markdown",
      "source": [
        "Funções"
      ],
      "metadata": {
        "id": "Vz7xYT8srULw"
      }
    },
    {
      "cell_type": "code",
      "source": [
        "dir(tuple)\n",
        "x = (1, 2, 3, 3, 3, 3, 4)\n",
        "x.count(3)\n",
        "x = (1, 2, 3, 3, 3, 3, 4)\n",
        "x.index(3)"
      ],
      "metadata": {
        "colab": {
          "base_uri": "https://localhost:8080/"
        },
        "id": "HqugaU7RrXI8",
        "outputId": "4fa351e7-894a-412a-e41e-f04b5465394c"
      },
      "execution_count": null,
      "outputs": [
        {
          "output_type": "execute_result",
          "data": {
            "text/plain": [
              "2"
            ]
          },
          "metadata": {},
          "execution_count": 52
        }
      ]
    },
    {
      "cell_type": "markdown",
      "source": [
        "Dicionários"
      ],
      "metadata": {
        "id": "AMp8iLWErihG"
      }
    },
    {
      "cell_type": "code",
      "source": [
        "X = { 'idade' : 21, 'matricula' : 10000, 'nome' : 'Joao' }\n",
        "X\n",
        "X = {'idade' : 21, 'matricula' : 10000, 'nome' : 'Joao' }\n",
        "X"
      ],
      "metadata": {
        "colab": {
          "base_uri": "https://localhost:8080/"
        },
        "id": "fDRjH3H_ri8p",
        "outputId": "005daea2-3433-400c-f6ff-7fbdebf21bfa"
      },
      "execution_count": null,
      "outputs": [
        {
          "output_type": "execute_result",
          "data": {
            "text/plain": [
              "{'idade': 21, 'matricula': 10000, 'nome': 'Joao'}"
            ]
          },
          "metadata": {},
          "execution_count": 56
        }
      ]
    },
    {
      "cell_type": "markdown",
      "source": [
        "Funções"
      ],
      "metadata": {
        "id": "yl0PvI7Sr-AY"
      }
    },
    {
      "cell_type": "code",
      "source": [
        "dir(dict)\n",
        "d = { 'nome' : 'joao' , 'idade' : 20}\n",
        "d.clear()\n",
        "d\n",
        "d = {'nome' : 'joao' , 'idade' : 20}\n",
        "d.get('nome')\n",
        "d.get('teste')\n",
        "d.get('teste', 'não encontrado')"
      ],
      "metadata": {
        "colab": {
          "base_uri": "https://localhost:8080/",
          "height": 35
        },
        "id": "CLlg_wUrr-vu",
        "outputId": "b6569002-690e-45ed-d7a5-754d91579ca5"
      },
      "execution_count": null,
      "outputs": [
        {
          "output_type": "execute_result",
          "data": {
            "text/plain": [
              "'não encontrado'"
            ],
            "application/vnd.google.colaboratory.intrinsic+json": {
              "type": "string"
            }
          },
          "metadata": {},
          "execution_count": 62
        }
      ]
    },
    {
      "cell_type": "markdown",
      "source": [
        "Laço for"
      ],
      "metadata": {
        "id": "9qI4rqSFstdD"
      }
    },
    {
      "cell_type": "code",
      "source": [
        "d = { 'nome' : 'Joao' , 'idade' : 20, 'matricula' : 1}\n",
        "for i in d:\n",
        "  print(i)\n",
        "d = { 'nome' : 'Joao' , 'idade' : 20, 'matricula' : 1}\n",
        "for i,j in d.items():\n",
        "  print(i)"
      ],
      "metadata": {
        "colab": {
          "base_uri": "https://localhost:8080/"
        },
        "id": "QPEHgwOtsv-l",
        "outputId": "044fbb64-2449-4a7a-cfca-cf85429b0f86"
      },
      "execution_count": null,
      "outputs": [
        {
          "output_type": "stream",
          "name": "stdout",
          "text": [
            "nome\n",
            "idade\n",
            "matricula\n",
            "nome\n",
            "idade\n",
            "matricula\n"
          ]
        }
      ]
    },
    {
      "cell_type": "code",
      "source": [
        "numeros = [9,8,7,5]\n",
        "numeros.insert(2,7)\n",
        "numeros\n"
      ],
      "metadata": {
        "colab": {
          "base_uri": "https://localhost:8080/"
        },
        "id": "8Oi1_HhUnUaq",
        "outputId": "27b349d9-fcf1-4f55-c5b5-1b57ccfafc78"
      },
      "execution_count": null,
      "outputs": [
        {
          "output_type": "execute_result",
          "data": {
            "text/plain": [
              "[9, 8, 7, 7, 5]"
            ]
          },
          "metadata": {},
          "execution_count": 25
        }
      ]
    },
    {
      "cell_type": "markdown",
      "source": [],
      "metadata": {
        "id": "NKE_W-EGsfE2"
      }
    },
    {
      "cell_type": "markdown",
      "source": [],
      "metadata": {
        "id": "G3OES1YNLGTm"
      }
    }
  ]
}