{
  "cells": [
    {
      "cell_type": "markdown",
      "metadata": {
        "id": "view-in-github",
        "colab_type": "text"
      },
      "source": [
        "<a href=\"https://colab.research.google.com/github/Guilherme-Lucas7/Exerc-cios-Estrutura-de-Dados/blob/main/SCRIPTS%20PEDIDO%20DE%20PIZZA.ipynb\" target=\"_parent\"><img src=\"https://colab.research.google.com/assets/colab-badge.svg\" alt=\"Open In Colab\"/></a>"
      ]
    },
    {
      "cell_type": "code",
      "source": [
        "# Definição de preços básicos para pizza pequena por sabor\n",
        "sabores_precos = {\n",
        "    \"Calabresa\": 20.0,\n",
        "    \"Marguerita\": 22.0,\n",
        "    \"Quatro Queijos\": 25.0,\n",
        "    \"Frango\": 21.0\n",
        "}\n",
        "\n",
        "# Fatores de multiplicação para tamanhos\n",
        "tamanhos = {\n",
        "    \"Pequena\": 1,\n",
        "    \"Média\": 1.2,\n",
        "    \"Grande\": 1.5\n",
        "}\n",
        "\n",
        "def calcular_valor_pizza(tamanho, sabores):\n",
        "    valor_base = 0\n",
        "    for sabor in sabores:\n",
        "        valor_base += sabores_precos[sabor]\n",
        "    return valor_base * tamanhos[tamanho]\n",
        "\n",
        "def pedido_pizzaria():\n",
        "    total_pedido = 0\n",
        "\n",
        "    while True:\n",
        "        # Escolha do tamanho da pizza\n",
        "        print(\"Escolha o tamanho da pizza:\")\n",
        "        print(\"1. Pequena\")\n",
        "        print(\"2. Média\")\n",
        "        print(\"3. Grande\")\n",
        "        tamanho_opcao = input(\"Digite o número do tamanho desejado: \")\n",
        "\n",
        "        if tamanho_opcao == \"1\":\n",
        "            tamanho = \"Pequena\"\n",
        "        elif tamanho_opcao == \"2\":\n",
        "            tamanho = \"Média\"\n",
        "        elif tamanho_opcao == \"3\":\n",
        "            tamanho = \"Grande\"\n",
        "        else:\n",
        "            print(\"Tamanho inválido! Escolha novamente.\")\n",
        "\n",
        "        # Escolha dos sabores\n",
        "        sabores = []\n",
        "        print(\"Escolha o(s) sabor(es) da pizza (até 2 sabores):\")\n",
        "        for i, sabor in enumerate(sabores_precos.keys(), 1):\n",
        "            print(f\"{i}. {sabor}\")\n",
        "        sabor1 = input(\"Digite o número do primeiro sabor: \")\n",
        "        sabores.append(list(sabores_precos.keys())[int(sabor1) - 1])\n",
        "\n",
        "        sabor2 = input(\"Gostaria de adicionar um segundo sabor? (Digite o número ou pressione Enter para pular): \")\n",
        "        if sabor2:\n",
        "            sabores.append(list(sabores_precos.keys())[int(sabor2) - 1])\n",
        "\n",
        "        # Quantidade de pizzas\n",
        "        quantidade = int(input(\"Digite a quantidade de pizzas desejada: \"))\n",
        "\n",
        "        # Calcular o valor da pizza\n",
        "        valor_pizza = calcular_valor_pizza(tamanho, sabores)\n",
        "        valor_total = valor_pizza * quantidade\n",
        "        total_pedido += valor_total\n",
        "\n",
        "        print(f\"Valor total do pedido atual: R$ {total_pedido:.2f}\")\n",
        "\n",
        "        # Verificar se o cliente quer fazer um novo pedido\n",
        "        novo_pedido = input(\"Gostaria de fazer um novo pedido? (S - Sim ou N - Não): \").lower()\n",
        "        if novo_pedido != 's':\n",
        "            break\n",
        "\n",
        "    print(f\"\\nValor total do pedido final: R$ {total_pedido:.2f}\")\n",
        "\n",
        "# Executar o programa\n",
        "pedido_pizzaria()"
      ],
      "metadata": {
        "id": "tHa08IXtTq84",
        "colab": {
          "base_uri": "https://localhost:8080/"
        },
        "outputId": "d28f4a5c-bbec-4f32-a904-cce379a9c325"
      },
      "execution_count": null,
      "outputs": [
        {
          "output_type": "stream",
          "name": "stdout",
          "text": [
            "Escolha o tamanho da pizza:\n",
            "1. Pequena\n",
            "2. Média\n",
            "3. Grande\n",
            "Digite o número do tamanho desejado: 2\n",
            "Escolha o(s) sabor(es) da pizza (até 2 sabores):\n",
            "1. Calabresa\n",
            "2. Marguerita\n",
            "3. Quatro Queijos\n",
            "4. Frango\n",
            "Digite o número do primeiro sabor: 2\n",
            "Gostaria de adicionar um segundo sabor? (Digite o número ou pressione Enter para pular): 3\n",
            "Digite a quantidade de pizzas desejada: 3\n",
            "Valor total do pedido atual: R$ 169.20\n",
            "Gostaria de fazer um novo pedido? (S - Sim ou N - Não): N\n",
            "\n",
            "Valor total do pedido final: R$ 169.20\n"
          ]
        }
      ]
    }
  ],
  "metadata": {
    "colab": {
      "provenance": [],
      "include_colab_link": true
    },
    "kernelspec": {
      "display_name": "Python 3",
      "name": "python3"
    }
  },
  "nbformat": 4,
  "nbformat_minor": 0
}