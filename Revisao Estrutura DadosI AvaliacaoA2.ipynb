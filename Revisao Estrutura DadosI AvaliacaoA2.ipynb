{
  "cells": [
    {
      "cell_type": "markdown",
      "metadata": {
        "id": "view-in-github",
        "colab_type": "text"
      },
      "source": [
        "<a href=\"https://colab.research.google.com/github/Guilherme-Lucas7/Exerc-cios-Estrutura-de-Dados/blob/main/Revisao%20Estrutura%20DadosI%20AvaliacaoA2.ipynb\" target=\"_parent\"><img src=\"https://colab.research.google.com/assets/colab-badge.svg\" alt=\"Open In Colab\"/></a>"
      ]
    },
    {
      "cell_type": "markdown",
      "source": [
        "## Lista de Revisão para Prova de Estrutura de Dados I utilizando a linguagem Python\n",
        "\n",
        "* **Listas (Arrays Dinâmicos):**\n",
        "    * Criação e manipulação de listas.\n",
        "    * Acesso a elementos por índice.\n",
        "    * Slicing de listas.\n",
        "    * Métodos importantes de listas (`append()`, `insert()`, `remove()`, `pop()`, `index()`, `count()`, `sort()`, `reverse()`, `clear()`, `copy()`).\n",
        "    * List comprehensions.\n",
        "    * Diferenças entre listas e tuplas.\n",
        "\n",
        "* **Filas (Queues):**\n",
        "    * Conceito de FIFO (First-In, First-Out).\n",
        "    * Implementação de filas usando listas (com suas limitações de performance para `pop(0)` e `insert(0)`).\n",
        "    * Uso da classe `collections.deque` para implementações eficientes de filas.\n",
        "    * Operações básicas de filas: `enqueue` (adicionar), `dequeue` (remover), `peek` (espiar), `is_empty` (verificar se está vazia), `size` (tamanho).\n",
        "\n",
        "* **Pilhas (Stacks):**\n",
        "    * Conceito de LIFO (Last-In, First-Out).\n",
        "    * Implementação de pilhas usando listas (aproveitando os métodos `append()` e `pop()`).\n",
        "    * Operações básicas de pilhas: `push` (empilhar), `pop` (desempilhar), `peek` (topo), `is_empty` (vazia), `size` (tamanho).\n",
        "\n",
        "* **Vetores (Arrays):**\n",
        "    * Conceito de arrays (sequências de elementos do mesmo tipo).\n",
        "    * Utilização do módulo `array` do Python para criar arrays de tipos específicos.\n",
        "    * Operações básicas com arrays: acesso, iteração.\n",
        "    * Vantagens e desvantagens em relação a listas (tipo fixo, geralmente mais eficientes em termos de memória para grandes quantidades de dados do mesmo tipo).\n",
        "\n",
        "* **Matrizes (Arrays Bidimensionais):**\n",
        "    * Representação de matrizes usando listas de listas em Python.\n",
        "    * Acesso a elementos em matrizes (linha e coluna).\n",
        "    * Iteração sobre matrizes.\n",
        "    * Operações básicas com matrizes (adição, multiplicação - conceitualmente).\n",
        "    * Utilização da biblioteca `NumPy` para manipulação eficiente de arrays multidimensionais (conceitos básicos).\n",
        "    \n",
        "\n",
        "## Questões de Múltipla Escolha\n",
        "\n",
        "1.  Qual das seguintes estruturas de dados segue o princípio LIFO (Last-In, First-Out)?\n",
        "\n",
        "    a) Fila\n",
        "\n",
        "    b) Lista\n",
        "\n",
        "    c) Pilha\n",
        "\n",
        "    d) Vetor\n",
        "\n",
        "\n",
        "2.  Qual método é comumente usado para adicionar um elemento ao final de uma lista em Python?\n",
        "\n",
        "    a) `insert()`\n",
        "\n",
        "    b) `add()`\n",
        "\n",
        "    c) `append()`\n",
        "\n",
        "    d) `extend()`\n",
        "\n",
        "\n",
        "3.  Qual das seguintes operações remove e retorna o elemento do início de uma fila implementada com uma lista padrão do Python?\n",
        "\n",
        "    a) `pop()`\n",
        "\n",
        "    b) `pop(0)`\n",
        "\n",
        "    c) `dequeue()`\n",
        "\n",
        "    d) `remove(0)`\n",
        "\n",
        "4.  Qual módulo do Python é mais eficiente para criar arrays de tipos numéricos específicos?\n",
        "\n",
        "    a) `collections`\n",
        "\n",
        "    b) `array`\n",
        "\n",
        "    c) `numpy`\n",
        "\n",
        "    d) `math`\n",
        "\n",
        "5.  Como você acessaria o elemento na segunda linha e terceira coluna de uma matriz chamada `matriz` representada como uma lista de listas em Python?\n",
        "\n",
        "    a) `matriz[1][2]`\n",
        "\n",
        "    b) `matriz[2][1]`\n",
        "\n",
        "    c) `matriz(2, 3)`\n",
        "\n",
        "    d) `matriz{2, 3}`\n",
        "\n",
        "## Questões de Análise de Código\n",
        "\n",
        "Analise o código Python a seguir e determine a saída ou o comportamento esperado.\n",
        "\n",
        "**Questão 1 (Listas):**"
      ],
      "metadata": {
        "id": "wAZEflSJrYft"
      }
    },
    {
      "cell_type": "code",
      "source": [
        "numeros = [10, 20, 30, 40, 50]\n",
        "numeros.insert(2, 25)\n",
        "del numeros[4]\n",
        "print(numeros)"
      ],
      "outputs": [
        {
          "output_type": "stream",
          "name": "stdout",
          "text": [
            "[10, 20, 25, 30, 50]\n"
          ]
        }
      ],
      "execution_count": null,
      "metadata": {
        "colab": {
          "base_uri": "https://localhost:8080/"
        },
        "id": "KcLHDCQXrYf_",
        "outputId": "f04fdd76-71e9-4b4c-ffb2-0ac2af0f0aad"
      }
    },
    {
      "cell_type": "markdown",
      "source": [
        "**Questão 2 (Pilhas):**"
      ],
      "metadata": {
        "id": "oyHIqnOHrYgF"
      }
    },
    {
      "cell_type": "code",
      "source": [
        "pilha = []\n",
        "pilha.append(1)\n",
        "pilha.append(2)\n",
        "pilha.append(3)\n",
        "pilha.pop()\n",
        "pilha.append(4)\n",
        "print(pilha)"
      ],
      "outputs": [
        {
          "output_type": "stream",
          "name": "stdout",
          "text": [
            "[1, 2, 4]\n"
          ]
        }
      ],
      "execution_count": null,
      "metadata": {
        "colab": {
          "base_uri": "https://localhost:8080/"
        },
        "id": "FVBGf9FxrYgG",
        "outputId": "15ad591f-cda2-4eb7-c514-6d4bf1d8da74"
      }
    },
    {
      "cell_type": "markdown",
      "source": [
        "**Questão 3 (List Comprehension):**"
      ],
      "metadata": {
        "id": "QrUPd3NHrYgI"
      }
    },
    {
      "cell_type": "code",
      "source": [
        "quadrados = [x**2 for x in range(5) if x % 2 == 0]\n",
        "print(quadrados)"
      ],
      "outputs": [
        {
          "output_type": "stream",
          "name": "stdout",
          "text": [
            "[0, 4, 16]\n"
          ]
        }
      ],
      "execution_count": null,
      "metadata": {
        "colab": {
          "base_uri": "https://localhost:8080/"
        },
        "id": "nIBKPk18rYgK",
        "outputId": "a22bfd1b-6fc3-446b-c805-44bbf7261df2"
      }
    },
    {
      "cell_type": "markdown",
      "source": [
        "**Questão 4 (Matrizes):**"
      ],
      "metadata": {
        "id": "4DcbZcJnrYgL"
      }
    },
    {
      "cell_type": "code",
      "source": [
        "matriz = [[1, 2, 3], [4, 5, 6], [7, 8, 9]]\n",
        "soma = 0\n",
        "for linha in matriz:\n",
        "    soma += linha[1]\n",
        "print(soma)"
      ],
      "outputs": [
        {
          "output_type": "stream",
          "name": "stdout",
          "text": [
            "15\n"
          ]
        }
      ],
      "execution_count": null,
      "metadata": {
        "colab": {
          "base_uri": "https://localhost:8080/"
        },
        "id": "lyV_ROF4rYgN",
        "outputId": "c5d6dc50-9ae8-40f4-cef0-147b8ab740db"
      }
    },
    {
      "cell_type": "markdown",
      "source": [
        "**Questão 5 (Filas com `deque`):**"
      ],
      "metadata": {
        "id": "zISfeI3irYgP"
      }
    },
    {
      "cell_type": "code",
      "source": [
        "from collections import deque\n",
        "fila = deque([100, 200])\n",
        "fila.append(300)\n",
        "fila.popleft()\n",
        "fila.appendleft(50)\n",
        "print(list(fila))"
      ],
      "outputs": [
        {
          "output_type": "stream",
          "name": "stdout",
          "text": [
            "[50, 200, 300]\n"
          ]
        }
      ],
      "execution_count": null,
      "metadata": {
        "colab": {
          "base_uri": "https://localhost:8080/"
        },
        "id": "Ps3j388rrYgQ",
        "outputId": "82c4a2d1-e19f-4e1d-ae68-8aee43bafa93"
      }
    }
  ],
  "metadata": {
    "colab": {
      "provenance": [],
      "include_colab_link": true
    },
    "kernelspec": {
      "display_name": "Python 3",
      "name": "python3"
    }
  },
  "nbformat": 4,
  "nbformat_minor": 0
}