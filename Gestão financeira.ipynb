{
  "nbformat": 4,
  "nbformat_minor": 0,
  "metadata": {
    "colab": {
      "provenance": [],
      "include_colab_link": true
    },
    "kernelspec": {
      "name": "python3",
      "display_name": "Python 3"
    },
    "language_info": {
      "name": "python"
    }
  },
  "cells": [
    {
      "cell_type": "markdown",
      "metadata": {
        "id": "view-in-github",
        "colab_type": "text"
      },
      "source": [
        "<a href=\"https://colab.research.google.com/github/Guilherme-Lucas7/Exerc-cios-Estrutura-de-Dados/blob/main/Gest%C3%A3o%20financeira.ipynb\" target=\"_parent\"><img src=\"https://colab.research.google.com/assets/colab-badge.svg\" alt=\"Open In Colab\"/></a>"
      ]
    },
    {
      "cell_type": "code",
      "execution_count": null,
      "metadata": {
        "id": "cnRODufMh4bA"
      },
      "outputs": [],
      "source": [
        "def gestao_financas():\n",
        "    # Solicitar o valor inicial da receita\n",
        "    receita_inicial = float(input(\"Digite o valor inicial da receita: \"))\n",
        "    receita_atual = receita_inicial\n",
        "    total_debitos = 0\n",
        "    total_creditos = 0\n",
        "\n",
        "    while True:\n",
        "        # Solicitar o tipo de operação\n",
        "        operacao = input(\"Digite 'crédito', 'débito' ou 'concluir' para finalizar: \").lower()\n",
        "\n",
        "        if operacao == 'concluir':\n",
        "            break\n",
        "\n",
        "        valor = float(input(\"Digite o valor da operação: \"))\n",
        "\n",
        "        # Verificar o tipo de operação\n",
        "        if operacao == 'crédito':\n",
        "            receita_atual += valor\n",
        "            total_creditos += valor\n",
        "        elif operacao == 'débito':\n",
        "            receita_atual -= valor\n",
        "            total_debitos += valor\n",
        "        else:\n",
        "            print(\"Operação inválida, tente novamente.\")\n",
        "\n",
        "    # Exibir o extrato\n",
        "    print(\"\\nExtrato Final:\")\n",
        "    print(f\"Valor inicial da receita: R$ {receita_inicial:.2f}\")\n",
        "    print(f\"Total de créditos: R$ {total_creditos:.2f}\")\n",
        "    print(f\"Total de débitos: R$ {total_debitos:.2f}\")\n",
        "    print(f\"Valor final da receita: R$ {receita_atual:.2f}\")\n",
        "\n",
        "# Executar o programa\n",
        "gestao_financas()\n"
      ]
    }
  ]
}